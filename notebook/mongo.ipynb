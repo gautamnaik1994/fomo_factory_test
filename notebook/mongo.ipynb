{
 "cells": [
  {
   "cell_type": "code",
   "execution_count": 69,
   "metadata": {},
   "outputs": [
    {
     "data": {
      "text/plain": [
       "True"
      ]
     },
     "execution_count": 69,
     "metadata": {},
     "output_type": "execute_result"
    }
   ],
   "source": [
    "from pymongo.mongo_client import MongoClient\n",
    "import yfinance as yf\n",
    "import os\n",
    "import httpx\n",
    "import json\n",
    "from dotenv import load_dotenv\n",
    "load_dotenv()"
   ]
  },
  {
   "cell_type": "code",
   "execution_count": 70,
   "metadata": {},
   "outputs": [
    {
     "name": "stdout",
     "output_type": "stream",
     "text": [
      "The dotenv extension is already loaded. To reload it, use:\n",
      "  %reload_ext dotenv\n"
     ]
    }
   ],
   "source": [
    "%load_ext dotenv\n",
    "%dotenv"
   ]
  },
  {
   "cell_type": "code",
   "execution_count": 18,
   "metadata": {},
   "outputs": [
    {
     "name": "stdout",
     "output_type": "stream",
     "text": [
      "Pinged your deployment. You successfully connected to MongoDB!\n"
     ]
    }
   ],
   "source": [
    "client = MongoClient(os.environ[\"ATLAS_URI\"])\n",
    "\n",
    "try:\n",
    "    client.admin.command('ping')\n",
    "    print(\"Pinged your deployment. You successfully connected to MongoDB!\")\n",
    "except Exception as e:\n",
    "    print(e)"
   ]
  },
  {
   "cell_type": "code",
   "execution_count": 8,
   "metadata": {},
   "outputs": [
    {
     "name": "stdout",
     "output_type": "stream",
     "text": [
      "['sample_mflix', 'admin', 'local']\n"
     ]
    }
   ],
   "source": [
    "print(client.list_database_names())"
   ]
  },
  {
   "cell_type": "code",
   "execution_count": 9,
   "metadata": {},
   "outputs": [
    {
     "data": {
      "text/plain": [
       "Collection(Database(MongoClient(host=['ac-9peyuts-shard-00-01.tfgxdt6.mongodb.net:27017', 'ac-9peyuts-shard-00-02.tfgxdt6.mongodb.net:27017', 'ac-9peyuts-shard-00-00.tfgxdt6.mongodb.net:27017'], document_class=dict, tz_aware=False, connect=True, retrywrites=True, w='majority', appname='stockCluster', authsource='admin', replicaset='atlas-emribc-shard-0', ssl=True), 'fomo_factory'), 'stock_prices')"
      ]
     },
     "execution_count": 9,
     "metadata": {},
     "output_type": "execute_result"
    }
   ],
   "source": [
    "db = client[\"fomo_factory\"]"
   ]
  },
  {
   "cell_type": "code",
   "execution_count": 66,
   "metadata": {},
   "outputs": [
    {
     "data": {
      "text/plain": [
       "Collection(Database(MongoClient(host=['ac-9peyuts-shard-00-01.tfgxdt6.mongodb.net:27017', 'ac-9peyuts-shard-00-02.tfgxdt6.mongodb.net:27017', 'ac-9peyuts-shard-00-00.tfgxdt6.mongodb.net:27017'], document_class=dict, tz_aware=False, connect=True, retrywrites=True, w='majority', appname='stockCluster', authsource='admin', replicaset='atlas-emribc-shard-0', ssl=True), 'fomo_factory'), 'stock_prices')"
      ]
     },
     "execution_count": 66,
     "metadata": {},
     "output_type": "execute_result"
    }
   ],
   "source": [
    "db.drop_collection(\"stock_prices\")\n",
    "db.create_collection(\n",
    "    \"stock_prices\",\n",
    "    timeseries={\n",
    "        \"timeField\": \"timestamp\",\n",
    "        \"metaField\": \"metadata\",\n",
    "        \"granularity\": \"minutes\"\n",
    "    },\n",
    "    expireAfterSeconds=60\n",
    ")"
   ]
  },
  {
   "cell_type": "code",
   "execution_count": 33,
   "metadata": {},
   "outputs": [],
   "source": [
    "stock_data_aapl=yf.Ticker(\"AAPL\").history(period=\"5d\", interval=\"1m\")\n",
    "stock_data_msft=yf.Ticker(\"MSFT\").history(period=\"5d\", interval=\"1m\")\n"
   ]
  },
  {
   "cell_type": "code",
   "execution_count": 38,
   "metadata": {},
   "outputs": [],
   "source": [
    "time_series_array=[]\n",
    "for index, row in stock_data_msft.iterrows():\n",
    "    time_series_array.append({\n",
    "        \"timestamp\": index,\n",
    "        \"metadata\": {\n",
    "            \"symbol\": \"AAPL\",\n",
    "        },\n",
    "        \"price\":row[\"Close\"],\n",
    "    })\n",
    "\n",
    "for index, row in stock_data_aapl.iterrows():\n",
    "    time_series_array.append({\n",
    "        \"timestamp\": index,\n",
    "        \"metadata\": {\n",
    "            \"symbol\": \"MSFT\",\n",
    "        },\n",
    "        \"price\":row[\"Close\"],\n",
    "    })"
   ]
  },
  {
   "cell_type": "code",
   "execution_count": 67,
   "metadata": {},
   "outputs": [
    {
     "data": {
      "text/plain": [
       "<pymongo.results.InsertManyResult at 0x10ae3f600>"
      ]
     },
     "execution_count": 67,
     "metadata": {},
     "output_type": "execute_result"
    }
   ],
   "source": [
    "db[\"stock_prices\"].insert_many(time_series_array)"
   ]
  },
  {
   "cell_type": "code",
   "execution_count": 36,
   "metadata": {},
   "outputs": [
    {
     "data": {
      "text/html": [
       "<div>\n",
       "<style scoped>\n",
       "    .dataframe tbody tr th:only-of-type {\n",
       "        vertical-align: middle;\n",
       "    }\n",
       "\n",
       "    .dataframe tbody tr th {\n",
       "        vertical-align: top;\n",
       "    }\n",
       "\n",
       "    .dataframe thead th {\n",
       "        text-align: right;\n",
       "    }\n",
       "</style>\n",
       "<table border=\"1\" class=\"dataframe\">\n",
       "  <thead>\n",
       "    <tr style=\"text-align: right;\">\n",
       "      <th></th>\n",
       "      <th>Open</th>\n",
       "      <th>High</th>\n",
       "      <th>Low</th>\n",
       "      <th>Close</th>\n",
       "      <th>Volume</th>\n",
       "      <th>Dividends</th>\n",
       "      <th>Stock Splits</th>\n",
       "    </tr>\n",
       "    <tr>\n",
       "      <th>Datetime</th>\n",
       "      <th></th>\n",
       "      <th></th>\n",
       "      <th></th>\n",
       "      <th></th>\n",
       "      <th></th>\n",
       "      <th></th>\n",
       "      <th></th>\n",
       "    </tr>\n",
       "  </thead>\n",
       "  <tbody>\n",
       "    <tr>\n",
       "      <th>2024-07-08 09:30:00-04:00</th>\n",
       "      <td>227.089996</td>\n",
       "      <td>227.350006</td>\n",
       "      <td>226.470001</td>\n",
       "      <td>226.922501</td>\n",
       "      <td>2348656</td>\n",
       "      <td>0.0</td>\n",
       "      <td>0.0</td>\n",
       "    </tr>\n",
       "    <tr>\n",
       "      <th>2024-07-08 09:31:00-04:00</th>\n",
       "      <td>226.949997</td>\n",
       "      <td>227.149994</td>\n",
       "      <td>226.550003</td>\n",
       "      <td>226.580002</td>\n",
       "      <td>395110</td>\n",
       "      <td>0.0</td>\n",
       "      <td>0.0</td>\n",
       "    </tr>\n",
       "    <tr>\n",
       "      <th>2024-07-08 09:32:00-04:00</th>\n",
       "      <td>226.559998</td>\n",
       "      <td>226.970001</td>\n",
       "      <td>226.539993</td>\n",
       "      <td>226.880005</td>\n",
       "      <td>282368</td>\n",
       "      <td>0.0</td>\n",
       "      <td>0.0</td>\n",
       "    </tr>\n",
       "    <tr>\n",
       "      <th>2024-07-08 09:33:00-04:00</th>\n",
       "      <td>226.853394</td>\n",
       "      <td>226.979996</td>\n",
       "      <td>226.490005</td>\n",
       "      <td>226.639999</td>\n",
       "      <td>344988</td>\n",
       "      <td>0.0</td>\n",
       "      <td>0.0</td>\n",
       "    </tr>\n",
       "    <tr>\n",
       "      <th>2024-07-08 09:34:00-04:00</th>\n",
       "      <td>226.645004</td>\n",
       "      <td>226.880005</td>\n",
       "      <td>226.619995</td>\n",
       "      <td>226.839996</td>\n",
       "      <td>317436</td>\n",
       "      <td>0.0</td>\n",
       "      <td>0.0</td>\n",
       "    </tr>\n",
       "    <tr>\n",
       "      <th>...</th>\n",
       "      <td>...</td>\n",
       "      <td>...</td>\n",
       "      <td>...</td>\n",
       "      <td>...</td>\n",
       "      <td>...</td>\n",
       "      <td>...</td>\n",
       "      <td>...</td>\n",
       "    </tr>\n",
       "    <tr>\n",
       "      <th>2024-07-12 15:55:00-04:00</th>\n",
       "      <td>231.020004</td>\n",
       "      <td>231.026993</td>\n",
       "      <td>230.389999</td>\n",
       "      <td>230.529999</td>\n",
       "      <td>254676</td>\n",
       "      <td>0.0</td>\n",
       "      <td>0.0</td>\n",
       "    </tr>\n",
       "    <tr>\n",
       "      <th>2024-07-12 15:56:00-04:00</th>\n",
       "      <td>230.529999</td>\n",
       "      <td>230.679993</td>\n",
       "      <td>230.500000</td>\n",
       "      <td>230.529999</td>\n",
       "      <td>159098</td>\n",
       "      <td>0.0</td>\n",
       "      <td>0.0</td>\n",
       "    </tr>\n",
       "    <tr>\n",
       "      <th>2024-07-12 15:57:00-04:00</th>\n",
       "      <td>230.539902</td>\n",
       "      <td>230.544998</td>\n",
       "      <td>230.360001</td>\n",
       "      <td>230.375000</td>\n",
       "      <td>166645</td>\n",
       "      <td>0.0</td>\n",
       "      <td>0.0</td>\n",
       "    </tr>\n",
       "    <tr>\n",
       "      <th>2024-07-12 15:58:00-04:00</th>\n",
       "      <td>230.380005</td>\n",
       "      <td>230.399994</td>\n",
       "      <td>230.225006</td>\n",
       "      <td>230.255005</td>\n",
       "      <td>282136</td>\n",
       "      <td>0.0</td>\n",
       "      <td>0.0</td>\n",
       "    </tr>\n",
       "    <tr>\n",
       "      <th>2024-07-12 15:59:00-04:00</th>\n",
       "      <td>230.259995</td>\n",
       "      <td>230.669998</td>\n",
       "      <td>230.119995</td>\n",
       "      <td>230.570007</td>\n",
       "      <td>944931</td>\n",
       "      <td>0.0</td>\n",
       "      <td>0.0</td>\n",
       "    </tr>\n",
       "  </tbody>\n",
       "</table>\n",
       "<p>1946 rows × 7 columns</p>\n",
       "</div>"
      ],
      "text/plain": [
       "                                 Open        High         Low       Close  \\\n",
       "Datetime                                                                    \n",
       "2024-07-08 09:30:00-04:00  227.089996  227.350006  226.470001  226.922501   \n",
       "2024-07-08 09:31:00-04:00  226.949997  227.149994  226.550003  226.580002   \n",
       "2024-07-08 09:32:00-04:00  226.559998  226.970001  226.539993  226.880005   \n",
       "2024-07-08 09:33:00-04:00  226.853394  226.979996  226.490005  226.639999   \n",
       "2024-07-08 09:34:00-04:00  226.645004  226.880005  226.619995  226.839996   \n",
       "...                               ...         ...         ...         ...   \n",
       "2024-07-12 15:55:00-04:00  231.020004  231.026993  230.389999  230.529999   \n",
       "2024-07-12 15:56:00-04:00  230.529999  230.679993  230.500000  230.529999   \n",
       "2024-07-12 15:57:00-04:00  230.539902  230.544998  230.360001  230.375000   \n",
       "2024-07-12 15:58:00-04:00  230.380005  230.399994  230.225006  230.255005   \n",
       "2024-07-12 15:59:00-04:00  230.259995  230.669998  230.119995  230.570007   \n",
       "\n",
       "                            Volume  Dividends  Stock Splits  \n",
       "Datetime                                                     \n",
       "2024-07-08 09:30:00-04:00  2348656        0.0           0.0  \n",
       "2024-07-08 09:31:00-04:00   395110        0.0           0.0  \n",
       "2024-07-08 09:32:00-04:00   282368        0.0           0.0  \n",
       "2024-07-08 09:33:00-04:00   344988        0.0           0.0  \n",
       "2024-07-08 09:34:00-04:00   317436        0.0           0.0  \n",
       "...                            ...        ...           ...  \n",
       "2024-07-12 15:55:00-04:00   254676        0.0           0.0  \n",
       "2024-07-12 15:56:00-04:00   159098        0.0           0.0  \n",
       "2024-07-12 15:57:00-04:00   166645        0.0           0.0  \n",
       "2024-07-12 15:58:00-04:00   282136        0.0           0.0  \n",
       "2024-07-12 15:59:00-04:00   944931        0.0           0.0  \n",
       "\n",
       "[1946 rows x 7 columns]"
      ]
     },
     "execution_count": 36,
     "metadata": {},
     "output_type": "execute_result"
    }
   ],
   "source": [
    "stock_data_aapl"
   ]
  },
  {
   "cell_type": "code",
   "execution_count": 82,
   "metadata": {},
   "outputs": [],
   "source": [
    "cursor=db[\"stock_prices\"].find(\n",
    "    {\n",
    "        \"metadata.symbol\": \"AAPL\",\n",
    "        \"timestamp\": {\n",
    "            \"$gte\": stock_data_aapl.index[0],\n",
    "            \"$lte\": stock_data_aapl.index[10]\n",
    "        }\n",
    "    },\n",
    "    {\n",
    "        \"timestamp\": 1,\n",
    "        \"price\": 1,\n",
    "        \"_id\": 0\n",
    "    }\n",
    ")"
   ]
  },
  {
   "cell_type": "code",
   "execution_count": 83,
   "metadata": {},
   "outputs": [],
   "source": [
    "results = list(cursor)\n",
    "for document in results:\n",
    "    print(document)"
   ]
  },
  {
   "cell_type": "code",
   "execution_count": 71,
   "metadata": {},
   "outputs": [
    {
     "name": "stdout",
     "output_type": "stream",
     "text": [
      "[{\"code\":\"BTC\",\"rate\":59803.667874739076,\"volume\":17910507712,\"cap\":1179345494142,\"delta\":{\"hour\":1.0009,\"day\":1.0205,\"week\":1.0512,\"month\":0.8905,\"quarter\":0.9038,\"year\":1.9688}},{\"code\":\"ETH\",\"rate\":3187.90659579325,\"volume\":8130075845,\"cap\":376274105076,\"delta\":{\"hour\":0.9969,\"day\":1.0121,\"week\":1.0731,\"month\":0.9095,\"quarter\":0.9928,\"year\":1.6442}},{\"code\":\"GRIN\",\"rate\":0.02905128003626805,\"volume\":45086,\"cap\":5021417,\"delta\":{\"hour\":1.0075,\"day\":1.1366,\"week\":1.0701,\"month\":0.8771,\"quarter\":0.5709,\"year\":0.6524}}]\n"
     ]
    }
   ],
   "source": [
    "\n",
    "\n",
    "url = \"https://api.livecoinwatch.com/coins/map\"\n",
    "\n",
    "payload = json.dumps({\n",
    "  \"codes\": [\"ETH\",\"BTC\",\"GRIN\"],\n",
    "  \"currency\": \"USD\",\n",
    "  \"sort\": \"rank\",\n",
    "  \"order\": \"ascending\",\n",
    "  \"offset\": 0,\n",
    "  \"limit\": 0,\n",
    "  \"meta\": False\n",
    "})\n",
    "headers = {\n",
    "  'content-type': 'application/json',\n",
    "  'x-api-key': os.environ[\"COIN_API_KEY\"]\n",
    "}\n",
    "\n",
    "response = httpx.request(\"POST\", url, headers=headers, data=payload)\n",
    "\n",
    "print(response.text)"
   ]
  },
  {
   "cell_type": "code",
   "execution_count": 73,
   "metadata": {},
   "outputs": [],
   "source": [
    "data=response.json()"
   ]
  },
  {
   "cell_type": "code",
   "execution_count": 74,
   "metadata": {},
   "outputs": [
    {
     "data": {
      "text/plain": [
       "[{'code': 'BTC',\n",
       "  'rate': 59803.667874739076,\n",
       "  'volume': 17910507712,\n",
       "  'cap': 1179345494142,\n",
       "  'delta': {'hour': 1.0009,\n",
       "   'day': 1.0205,\n",
       "   'week': 1.0512,\n",
       "   'month': 0.8905,\n",
       "   'quarter': 0.9038,\n",
       "   'year': 1.9688}},\n",
       " {'code': 'ETH',\n",
       "  'rate': 3187.90659579325,\n",
       "  'volume': 8130075845,\n",
       "  'cap': 376274105076,\n",
       "  'delta': {'hour': 0.9969,\n",
       "   'day': 1.0121,\n",
       "   'week': 1.0731,\n",
       "   'month': 0.9095,\n",
       "   'quarter': 0.9928,\n",
       "   'year': 1.6442}},\n",
       " {'code': 'GRIN',\n",
       "  'rate': 0.02905128003626805,\n",
       "  'volume': 45086,\n",
       "  'cap': 5021417,\n",
       "  'delta': {'hour': 1.0075,\n",
       "   'day': 1.1366,\n",
       "   'week': 1.0701,\n",
       "   'month': 0.8771,\n",
       "   'quarter': 0.5709,\n",
       "   'year': 0.6524}}]"
      ]
     },
     "execution_count": 74,
     "metadata": {},
     "output_type": "execute_result"
    }
   ],
   "source": [
    "data"
   ]
  },
  {
   "cell_type": "code",
   "execution_count": 78,
   "metadata": {},
   "outputs": [],
   "source": [
    "from datetime import datetime"
   ]
  },
  {
   "cell_type": "code",
   "execution_count": 79,
   "metadata": {},
   "outputs": [
    {
     "data": {
      "text/plain": [
       "'2024-07-14T20:05:39.825417'"
      ]
     },
     "execution_count": 79,
     "metadata": {},
     "output_type": "execute_result"
    }
   ],
   "source": []
  },
  {
   "cell_type": "code",
   "execution_count": 80,
   "metadata": {},
   "outputs": [],
   "source": [
    "time_series_array_v2=[]\n",
    "for coin in data:\n",
    "    time_series_array_v2.append({\n",
    "        \"timestamp\": datetime.now().isoformat(),\n",
    "        \"metadata\": {\n",
    "            \"symbol\": coin[\"code\"],\n",
    "        },\n",
    "        \"price\":coin[\"rate\"]\n",
    "    })\n",
    "    "
   ]
  },
  {
   "cell_type": "code",
   "execution_count": 81,
   "metadata": {},
   "outputs": [
    {
     "data": {
      "text/plain": [
       "[{'timestamp': '2024-07-14T20:05:54.877260',\n",
       "  'metadata': {'symbol': 'BTC'},\n",
       "  'price': 59803.667874739076},\n",
       " {'timestamp': '2024-07-14T20:05:54.877270',\n",
       "  'metadata': {'symbol': 'ETH'},\n",
       "  'price': 3187.90659579325},\n",
       " {'timestamp': '2024-07-14T20:05:54.877274',\n",
       "  'metadata': {'symbol': 'GRIN'},\n",
       "  'price': 0.02905128003626805}]"
      ]
     },
     "execution_count": 81,
     "metadata": {},
     "output_type": "execute_result"
    }
   ],
   "source": [
    "# get current timestamp \n",
    "time_series_array_v2"
   ]
  },
  {
   "cell_type": "code",
   "execution_count": 84,
   "metadata": {},
   "outputs": [],
   "source": [
    "cursor=db[\"stock_prices\"].find({})"
   ]
  },
  {
   "cell_type": "code",
   "execution_count": 85,
   "metadata": {},
   "outputs": [
    {
     "name": "stdout",
     "output_type": "stream",
     "text": [
      "{'timestamp': datetime.datetime(2024, 7, 14, 15, 36, 42, 61000), '_id': ObjectId('6693f08a59c8c34b01d62b8c'), 'price': 60131.47631073851, 'metadata': {'symbol': 'BTC'}}\n",
      "{'timestamp': datetime.datetime(2024, 7, 14, 15, 36, 42, 61000), '_id': ObjectId('6693f08a59c8c34b01d62b8d'), 'price': 3191.4545184236276, 'metadata': {'symbol': 'ETH'}}\n",
      "{'timestamp': datetime.datetime(2024, 7, 14, 15, 36, 42, 61000), '_id': ObjectId('6693f08a59c8c34b01d62b8e'), 'price': 0.028816165184506994, 'metadata': {'symbol': 'GRIN'}}\n",
      "{'timestamp': datetime.datetime(2024, 7, 14, 15, 37, 1, 216000), '_id': ObjectId('6693f09d59c8c34b01d62b8f'), 'price': 60126.82787838685, 'metadata': {'symbol': 'BTC'}}\n",
      "{'timestamp': datetime.datetime(2024, 7, 14, 15, 37, 1, 216000), '_id': ObjectId('6693f09d59c8c34b01d62b90'), 'price': 3191.3357533439103, 'metadata': {'symbol': 'ETH'}}\n",
      "{'timestamp': datetime.datetime(2024, 7, 14, 15, 37, 1, 216000), '_id': ObjectId('6693f09d59c8c34b01d62b91'), 'price': 0.0288149017536504, 'metadata': {'symbol': 'GRIN'}}\n",
      "{'timestamp': datetime.datetime(2024, 7, 14, 15, 38, 3, 877000), '_id': ObjectId('6693f0db59c8c34b01d62b92'), 'price': 60107.800496757816, 'metadata': {'symbol': 'BTC'}}\n",
      "{'timestamp': datetime.datetime(2024, 7, 14, 15, 38, 3, 877000), '_id': ObjectId('6693f0db59c8c34b01d62b93'), 'price': 3190.7086052278046, 'metadata': {'symbol': 'ETH'}}\n",
      "{'timestamp': datetime.datetime(2024, 7, 14, 15, 38, 3, 877000), '_id': ObjectId('6693f0db59c8c34b01d62b94'), 'price': 0.028807742907766457, 'metadata': {'symbol': 'GRIN'}}\n"
     ]
    }
   ],
   "source": [
    "results = list(cursor)\n",
    "for document in results:\n",
    "    print(document)"
   ]
  },
  {
   "cell_type": "code",
   "execution_count": null,
   "metadata": {},
   "outputs": [],
   "source": []
  }
 ],
 "metadata": {
  "kernelspec": {
   "display_name": "base",
   "language": "python",
   "name": "python3"
  },
  "language_info": {
   "codemirror_mode": {
    "name": "ipython",
    "version": 3
   },
   "file_extension": ".py",
   "mimetype": "text/x-python",
   "name": "python",
   "nbconvert_exporter": "python",
   "pygments_lexer": "ipython3",
   "version": "3.11.5"
  }
 },
 "nbformat": 4,
 "nbformat_minor": 2
}
